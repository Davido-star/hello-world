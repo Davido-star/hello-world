{
  "nbformat": 4,
  "nbformat_minor": 0,
  "metadata": {
    "colab": {
      "name": "March1_functions.ipynb",
      "provenance": [],
      "authorship_tag": "ABX9TyMTUZknkMcdqVeWnsvy2G58",
      "include_colab_link": true
    },
    "kernelspec": {
      "name": "python3",
      "display_name": "Python 3"
    }
  },
  "cells": [
    {
      "cell_type": "markdown",
      "metadata": {
        "id": "view-in-github",
        "colab_type": "text"
      },
      "source": [
        "<a href=\"https://colab.research.google.com/github/Davido-star/hello-world/blob/readme-edits/March1_functions.ipynb\" target=\"_parent\"><img src=\"https://colab.research.google.com/assets/colab-badge.svg\" alt=\"Open In Colab\"/></a>"
      ]
    },
    {
      "cell_type": "code",
      "metadata": {
        "colab": {
          "base_uri": "https://localhost:8080/"
        },
        "id": "_BItRMgJwwFX",
        "outputId": "e3ca683d-d40d-466a-97a3-bba9428cb84e"
      },
      "source": [
        "import math # import is a module tha canbe imported and used as a short cut \n",
        "math.pi"
      ],
      "execution_count": 1,
      "outputs": [
        {
          "output_type": "execute_result",
          "data": {
            "text/plain": [
              "3.141592653589793"
            ]
          },
          "metadata": {
            "tags": []
          },
          "execution_count": 1
        }
      ]
    },
    {
      "cell_type": "markdown",
      "metadata": {
        "id": "m4j6lkmOy-po"
      },
      "source": [
        "There is a help function that exist which tells you about the code youre using "
      ]
    },
    {
      "cell_type": "code",
      "metadata": {
        "colab": {
          "base_uri": "https://localhost:8080/"
        },
        "id": "pdJ0K-Bgy84y",
        "outputId": "8ca681c9-d5ce-45df-a1f9-ffc2b564eef1"
      },
      "source": [
        "help(math.log) #handy way to find more about what you dont understand \n"
      ],
      "execution_count": 2,
      "outputs": [
        {
          "output_type": "stream",
          "text": [
            "Help on built-in function log in module math:\n",
            "\n",
            "log(...)\n",
            "    log(x, [base=math.e])\n",
            "    Return the logarithm of x to the given base.\n",
            "    \n",
            "    If the base not specified, returns the natural logarithm (base e) of x.\n",
            "\n"
          ],
          "name": "stdout"
        }
      ]
    },
    {
      "cell_type": "markdown",
      "metadata": {
        "id": "-x5CaGMdzhci"
      },
      "source": [
        "**Defining new functions **\n",
        "a function is a named sequence of code \n"
      ]
    },
    {
      "cell_type": "code",
      "metadata": {
        "id": "KInt_VlUzrlW"
      },
      "source": [
        "# this function prints a string \n",
        "def print_strings(): # indent should always follow a colon \n",
        "  print (\"python Programming\") #indent is important \n",
        "  print (\"super cool\") \n",
        "\n",
        "  #run or \"call\" the function \n",
        "  print_strings()"
      ],
      "execution_count": 6,
      "outputs": []
    },
    {
      "cell_type": "code",
      "metadata": {
        "id": "au6uG13X0oa0"
      },
      "source": [
        "def WorkdayHours():\n",
        "  print(\"Mon-Fri: 9-9\")\n",
        "def WeekendHours ():\n",
        "  print(\"Weekends: 11-5\")"
      ],
      "execution_count": 7,
      "outputs": []
    },
    {
      "cell_type": "code",
      "metadata": {
        "id": "uy4ynGk10Zzl"
      },
      "source": [
        "#call two previously defined functions \n",
        "def ShopHours():\n",
        "  WorkdayHours()\n",
        "  WeekendHours()\n",
        "  "
      ],
      "execution_count": 10,
      "outputs": []
    },
    {
      "cell_type": "code",
      "metadata": {
        "colab": {
          "base_uri": "https://localhost:8080/"
        },
        "id": "PWSiXZrX08kz",
        "outputId": "aa16dade-3af1-41ea-d44c-f69a190f15be"
      },
      "source": [
        "ShopHours()"
      ],
      "execution_count": 11,
      "outputs": [
        {
          "output_type": "stream",
          "text": [
            "Mon-Fri: 9-9\n",
            "Weekends: 11-5\n"
          ],
          "name": "stdout"
        }
      ]
    },
    {
      "cell_type": "code",
      "metadata": {
        "id": "tuoQg_cq1feJ"
      },
      "source": [
        "def print_twice(bruce): #the name bruce is only a placeholder\n",
        "  print(bruce)\n",
        "  print(bruce) \n"
      ],
      "execution_count": 23,
      "outputs": []
    },
    {
      "cell_type": "code",
      "metadata": {
        "colab": {
          "base_uri": "https://localhost:8080/"
        },
        "id": "66dn75g92TbT",
        "outputId": "350d2740-fa28-4206-d660-e616a13e53a4"
      },
      "source": [
        "\n",
        "print_twice ('bruce')"
      ],
      "execution_count": 24,
      "outputs": [
        {
          "output_type": "stream",
          "text": [
            "bruce\n",
            "bruce\n"
          ],
          "name": "stdout"
        }
      ]
    },
    {
      "cell_type": "code",
      "metadata": {
        "id": "hnuDi0Qq2TNX"
      },
      "source": [
        "def print_quad (bruce):\n",
        "  print_twice (bruce)\n",
        "  print_twice (bruce)\n",
        "\n",
        "\n"
      ],
      "execution_count": 54,
      "outputs": []
    },
    {
      "cell_type": "code",
      "metadata": {
        "colab": {
          "base_uri": "https://localhost:8080/"
        },
        "id": "Svw5R8_w32DB",
        "outputId": "4471c843-a98d-42a1-e446-cb128f77bd6e"
      },
      "source": [
        "print_quad('bruce')"
      ],
      "execution_count": 55,
      "outputs": [
        {
          "output_type": "stream",
          "text": [
            "bruce\n",
            "bruce\n",
            "bruce\n",
            "bruce\n"
          ],
          "name": "stdout"
        }
      ]
    },
    {
      "cell_type": "code",
      "metadata": {
        "colab": {
          "base_uri": "https://localhost:8080/",
          "height": 283
        },
        "id": "V85BlGy960vF",
        "outputId": "55921f71-8a8e-49ba-c803-63fed49dfc34"
      },
      "source": [
        "def print_four (bruce):\n",
        "  print_twice *2 (bruce)\n",
        "print_four ('bruce')"
      ],
      "execution_count": 57,
      "outputs": [
        {
          "output_type": "error",
          "ename": "TypeError",
          "evalue": "ignored",
          "traceback": [
            "\u001b[0;31m---------------------------------------------------------------------------\u001b[0m",
            "\u001b[0;31mTypeError\u001b[0m                                 Traceback (most recent call last)",
            "\u001b[0;32m<ipython-input-57-5328415f5e5d>\u001b[0m in \u001b[0;36m<module>\u001b[0;34m()\u001b[0m\n\u001b[1;32m      1\u001b[0m \u001b[0;32mdef\u001b[0m \u001b[0mprint_four\u001b[0m \u001b[0;34m(\u001b[0m\u001b[0mbruce\u001b[0m\u001b[0;34m)\u001b[0m\u001b[0;34m:\u001b[0m\u001b[0;34m\u001b[0m\u001b[0;34m\u001b[0m\u001b[0m\n\u001b[1;32m      2\u001b[0m   \u001b[0mprint_twice\u001b[0m \u001b[0;34m*\u001b[0m\u001b[0;36m2\u001b[0m \u001b[0;34m(\u001b[0m\u001b[0mbruce\u001b[0m\u001b[0;34m)\u001b[0m\u001b[0;34m\u001b[0m\u001b[0;34m\u001b[0m\u001b[0m\n\u001b[0;32m----> 3\u001b[0;31m \u001b[0mprint_four\u001b[0m \u001b[0;34m(\u001b[0m\u001b[0;34m'bruce'\u001b[0m\u001b[0;34m)\u001b[0m\u001b[0;34m\u001b[0m\u001b[0;34m\u001b[0m\u001b[0m\n\u001b[0m",
            "\u001b[0;32m<ipython-input-57-5328415f5e5d>\u001b[0m in \u001b[0;36mprint_four\u001b[0;34m(bruce)\u001b[0m\n\u001b[1;32m      1\u001b[0m \u001b[0;32mdef\u001b[0m \u001b[0mprint_four\u001b[0m \u001b[0;34m(\u001b[0m\u001b[0mbruce\u001b[0m\u001b[0;34m)\u001b[0m\u001b[0;34m:\u001b[0m\u001b[0;34m\u001b[0m\u001b[0;34m\u001b[0m\u001b[0m\n\u001b[0;32m----> 2\u001b[0;31m   \u001b[0mprint_twice\u001b[0m \u001b[0;34m*\u001b[0m\u001b[0;36m2\u001b[0m \u001b[0;34m(\u001b[0m\u001b[0mbruce\u001b[0m\u001b[0;34m)\u001b[0m\u001b[0;34m\u001b[0m\u001b[0;34m\u001b[0m\u001b[0m\n\u001b[0m\u001b[1;32m      3\u001b[0m \u001b[0mprint_four\u001b[0m \u001b[0;34m(\u001b[0m\u001b[0;34m'bruce'\u001b[0m\u001b[0;34m)\u001b[0m\u001b[0;34m\u001b[0m\u001b[0;34m\u001b[0m\u001b[0m\n",
            "\u001b[0;31mTypeError\u001b[0m: 'int' object is not callable"
          ]
        }
      ]
    },
    {
      "cell_type": "markdown",
      "metadata": {
        "id": "EntkVReE5RIL"
      },
      "source": [
        "**Values**"
      ]
    },
    {
      "cell_type": "code",
      "metadata": {
        "colab": {
          "base_uri": "https://localhost:8080/"
        },
        "id": "ZR4I074k5Zks",
        "outputId": "2c79ab18-cac0-4f1e-a4ee-ca42dc0d3d01"
      },
      "source": [
        "def circle_area(r):\n",
        "  return math.pi * r * r\n",
        "\n",
        "print (circle_area(2))\n"
      ],
      "execution_count": 76,
      "outputs": [
        {
          "output_type": "stream",
          "text": [
            "12.566370614359172\n"
          ],
          "name": "stdout"
        }
      ]
    },
    {
      "cell_type": "code",
      "metadata": {
        "colab": {
          "base_uri": "https://localhost:8080/"
        },
        "id": "HkS1iexI73BO",
        "outputId": "3e8bdddb-9f97-40aa-daaa-b231f20a9a43"
      },
      "source": [
        "import math \n",
        "def circle_area(r):\n",
        "  a = r**2 * math.pi\n",
        "  return a \n",
        "\n",
        "print(circle_area(5))"
      ],
      "execution_count": 74,
      "outputs": [
        {
          "output_type": "stream",
          "text": [
            "78.53981633974483\n"
          ],
          "name": "stdout"
        }
      ]
    },
    {
      "cell_type": "code",
      "metadata": {
        "colab": {
          "base_uri": "https://localhost:8080/",
          "height": 215
        },
        "id": "hZNDBT099OUb",
        "outputId": "50c03b4a-cd5a-4fa5-a8da-e1c06745e978"
      },
      "source": [
        "input()\n",
        "def interactive_code (r):\n",
        "  a=r+2\n",
        "  return a \n",
        "print(interactive_code)"
      ],
      "execution_count": 80,
      "outputs": [
        {
          "output_type": "stream",
          "text": [
            "2\n"
          ],
          "name": "stdout"
        },
        {
          "output_type": "error",
          "ename": "NameError",
          "evalue": "ignored",
          "traceback": [
            "\u001b[0;31m---------------------------------------------------------------------------\u001b[0m",
            "\u001b[0;31mNameError\u001b[0m                                 Traceback (most recent call last)",
            "\u001b[0;32m<ipython-input-80-5df6f95a736e>\u001b[0m in \u001b[0;36m<module>\u001b[0;34m()\u001b[0m\n\u001b[1;32m      3\u001b[0m   \u001b[0ma\u001b[0m\u001b[0;34m=\u001b[0m\u001b[0mr\u001b[0m\u001b[0;34m+\u001b[0m\u001b[0;36m2\u001b[0m\u001b[0;34m\u001b[0m\u001b[0;34m\u001b[0m\u001b[0m\n\u001b[1;32m      4\u001b[0m   \u001b[0;32mreturn\u001b[0m \u001b[0ma\u001b[0m\u001b[0;34m\u001b[0m\u001b[0;34m\u001b[0m\u001b[0m\n\u001b[0;32m----> 5\u001b[0;31m \u001b[0mprint\u001b[0m\u001b[0;34m(\u001b[0m\u001b[0minteractive_codde\u001b[0m\u001b[0;34m)\u001b[0m\u001b[0;34m\u001b[0m\u001b[0;34m\u001b[0m\u001b[0m\n\u001b[0m",
            "\u001b[0;31mNameError\u001b[0m: name 'interactive_codde' is not defined"
          ]
        }
      ]
    },
    {
      "cell_type": "code",
      "metadata": {
        "colab": {
          "base_uri": "https://localhost:8080/"
        },
        "id": "i-YtKiHb-pnC",
        "outputId": "813766cc-5e0e-4930-bc23-4c99d901a3e4"
      },
      "source": [
        "r = float(input(\"input the radius of the circle:\"))\n",
        "def circle_area_input(r):\n",
        "  a = r**2 * math.pi\n",
        "  return a \n",
        "\n",
        "print(circle_area_input(r))"
      ],
      "execution_count": 83,
      "outputs": [
        {
          "output_type": "stream",
          "text": [
            "input the radius of the circle:2\n",
            "12.566370614359172\n"
          ],
          "name": "stdout"
        }
      ]
    }
  ]
}
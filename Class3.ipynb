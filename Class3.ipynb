{
  "nbformat": 4,
  "nbformat_minor": 0,
  "metadata": {
    "colab": {
      "name": "Class3.ipynb",
      "provenance": [],
      "authorship_tag": "ABX9TyPAydlXB8MsIo3TjpQaLwOK",
      "include_colab_link": true
    },
    "kernelspec": {
      "name": "python3",
      "display_name": "Python 3"
    }
  },
  "cells": [
    {
      "cell_type": "markdown",
      "metadata": {
        "id": "view-in-github",
        "colab_type": "text"
      },
      "source": [
        "<a href=\"https://colab.research.google.com/github/Davido-star/hello-world/blob/main/Class3.ipynb\" target=\"_parent\"><img src=\"https://colab.research.google.com/assets/colab-badge.svg\" alt=\"Open In Colab\"/></a>"
      ]
    },
    {
      "cell_type": "code",
      "metadata": {
        "colab": {
          "base_uri": "https://localhost:8080/"
        },
        "id": "LHvKFoQxYlpO",
        "outputId": "1c4b4398-5f3d-4890-eec1-63591cd28047"
      },
      "source": [
        "# this is some sample code. \n",
        "message = \"python version: 3x\" \n",
        "n=17 \n",
        "pi=3.1459\n",
        "print(message)\n",
        "print(n)\n",
        "print(pi)\n",
        "test_expon=2**1*1\n",
        "print(test_expon)\n",
        "n=42\n",
        "print(n) \n",
        "print(\"first line \\n second line\")\n",
        "print(\"first line \\t second line\")\n",
        "print(\"first line\\n \\t second line\")"
      ],
      "execution_count": 11,
      "outputs": [
        {
          "output_type": "stream",
          "text": [
            "python version: 3x\n",
            "17\n",
            "3.1459\n",
            "2\n",
            "42\n",
            "first line \n",
            " second line\n",
            "first line \t second line\n",
            "first line\n",
            " \t second line\n"
          ],
          "name": "stdout"
        }
      ]
    },
    {
      "cell_type": "code",
      "metadata": {
        "colab": {
          "base_uri": "https://localhost:8080/"
        },
        "id": "w4YjCmW2fWsf",
        "outputId": "d97ddab1-d17c-49cb-f49b-835062d78bc3"
      },
      "source": [
        "#excercise david_smith_excercise.ipynb\n",
        "pi=3.14 #two digets rounded\n",
        "r=2 #chosen abritrary\n",
        "\n",
        "# this code calculates area \n",
        "area=pi * (r**2)\n",
        "\n",
        "# this code calculates circumference \n",
        "circum= 2 * pi * r \n",
        "\n",
        "#this line prints the outputs \n",
        "print (\"Given r:\", r)\n",
        "print (\"Area is:\", area)\n",
        "print (\"Circumference si:\", circum)\n"
      ],
      "execution_count": 13,
      "outputs": [
        {
          "output_type": "stream",
          "text": [
            "Given r: 2\n",
            "Area is: 12.56\n",
            "Circumference si: 12.56\n"
          ],
          "name": "stdout"
        }
      ]
    }
  ]
}